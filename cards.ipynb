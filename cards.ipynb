{
 "cells": [
  {
   "cell_type": "code",
   "execution_count": 45,
   "metadata": {},
   "outputs": [],
   "source": [
    "import random"
   ]
  },
  {
   "cell_type": "code",
   "execution_count": 39,
   "metadata": {},
   "outputs": [],
   "source": [
    "import re\n",
    "\n",
    "class InvalidCardError(ValueError):\n",
    "    pass\n",
    "\n",
    "class Card:\n",
    "    \"\"\"Card represents a card in a standard pack of 52 playing cards.\"\"\"\n",
    "    SUIT_TO_STRING = {1: \"s\", 2: \"h\", 3: \"d\", 4: \"c\"}\n",
    "\n",
    "    RANK_TO_STRING = {\n",
    "        2: \"2\",\n",
    "        3: \"3\",\n",
    "        4: \"4\",\n",
    "        5: \"5\",\n",
    "        6: \"6\",\n",
    "        7: \"7\",\n",
    "        8: \"8\",\n",
    "        9: \"9\",\n",
    "        10: \"T\",\n",
    "        11: \"J\",\n",
    "        12: \"Q\",\n",
    "        13: \"K\",\n",
    "        14: \"A\",\n",
    "    }\n",
    "\n",
    "    STRING_TO_SUIT = dict([(v, k) for k, v in SUIT_TO_STRING.items()])\n",
    "    STRING_TO_RANK = dict([(v, k) for k, v in RANK_TO_STRING.items()])\n",
    "\n",
    "    REPR_RE = re.compile(r\"\\((.*?)\\)\")\n",
    "\n",
    "    def __init__(self, rank, suit):\n",
    "        \"\"\"Create a card.\n",
    "        Arguments:\n",
    "        First argument: An int or string representing the rank.\n",
    "        If int, the ranks are 2-14, with 10-14 representing ten through ace.\n",
    "        If string, \"T\", \"J\", \"Q\", \"K\", \"A\" are ten through ace.\n",
    "        Second argument: An int or string representing the suit.\n",
    "        If int, 1-4 represent spades, hearts, diamonds, clubs respectively.\n",
    "        If string, the suits are \"s\", \"h\", \"d\", \"c\".\n",
    "        \"\"\"\n",
    "        if isinstance(rank, int):\n",
    "            if rank < 2 or rank > 14:\n",
    "                raise InvalidCardError(\"%s is not a valid rank\" % rank)\n",
    "            self.rank = rank\n",
    "        elif isinstance(rank, \"\".__class__):\n",
    "            try:\n",
    "                self.rank = self.STRING_TO_RANK[rank.upper()]\n",
    "            except KeyError:\n",
    "                raise InvalidCardError(\"'%s' is not a valid rank\" % rank)\n",
    "        else:\n",
    "            raise TypeError(\"rank must be int or string\")\n",
    "\n",
    "        if isinstance(suit, int):\n",
    "            if suit < 1 or suit > 4:\n",
    "                raise InvalidCardError(\"%s is not a valid suit\" % suit)\n",
    "            self.suit = suit\n",
    "        elif isinstance(suit, \"\".__class__):\n",
    "            try:\n",
    "                self.suit = self.STRING_TO_SUIT[suit.lower()]\n",
    "            except KeyError:\n",
    "                raise InvalidCardError(\"'%s' is not a valid suit\" % suit)\n",
    "        else:\n",
    "            raise TypeError(\"suit must be int or string\")\n",
    "\n",
    "    def __repr__(self):\n",
    "        return \"(%s%s)\" % (\n",
    "            self.RANK_TO_STRING[self.rank],\n",
    "            self.SUIT_TO_STRING[self.suit],\n",
    "        )\n",
    "\n",
    "    def __eq__(self, other):\n",
    "        return (\n",
    "            isinstance(other, self.__class__)\n",
    "            and self.rank == other.rank\n",
    "            and self.suit == other.suit\n",
    "        )\n",
    "\n",
    "    def __hash__(self):\n",
    "        return hash((self.rank, self.suit))\n",
    "\n",
    "    @classmethod\n",
    "    def from_repr(cls, repr):\n",
    "        \"\"\"Return a card instance from repr.\n",
    "        This is really dirty--it just matches between the parens.\n",
    "        It's meant for debugging.\n",
    "        \"\"\"\n",
    "        between_parens = re.search(cls.REPR_RE, repr).group(1)\n",
    "        rank = cls.STRING_TO_RANK[between_parens[0].upper()]\n",
    "        suit = cls.STRING_TO_SUIT[between_parens[1].lower()]\n",
    "        return Card(rank, suit)\n",
    "\n"
   ]
  },
  {
   "cell_type": "code",
   "execution_count": 40,
   "metadata": {},
   "outputs": [
    {
     "data": {
      "text/plain": [
       "(Qd)"
      ]
     },
     "execution_count": 40,
     "metadata": {},
     "output_type": "execute_result"
    }
   ],
   "source": [
    "Card(12,3)"
   ]
  },
  {
   "cell_type": "code",
   "execution_count": 42,
   "metadata": {},
   "outputs": [
    {
     "data": {
      "text/plain": [
       "False"
      ]
     },
     "execution_count": 42,
     "metadata": {},
     "output_type": "execute_result"
    }
   ],
   "source": [
    "Card(12,1)==Card(12,3)"
   ]
  },
  {
   "cell_type": "code",
   "execution_count": 22,
   "metadata": {},
   "outputs": [
    {
     "data": {
      "text/plain": [
       "14"
      ]
     },
     "execution_count": 22,
     "metadata": {},
     "output_type": "execute_result"
    }
   ],
   "source": [
    "Card.from_repr(\"(As)\").rank"
   ]
  },
  {
   "cell_type": "code",
   "execution_count": 85,
   "metadata": {},
   "outputs": [
    {
     "name": "stdout",
     "output_type": "stream",
     "text": [
      "52 cards... \n",
      "[(2s), (3s), (4s), (5s), (6s), (7s), (8s), (9s), (Ts), (Js), (Qs), (Ks), (As), (2h), (3h), (4h), (5h), (6h), (7h), (8h), (9h), (Th), (Jh), (Qh), (Kh), (Ah), (2d), (3d), (4d), (5d), (6d), (7d), (8d), (9d), (Td), (Jd), (Qd), (Kd), (Ad), (2c), (3c), (4c), (5c), (6c), (7c), (8c), (9c), (Tc), (Jc), (Qc), (Kc), (Ac)]\n",
      "(Qh)\n"
     ]
    }
   ],
   "source": [
    "count = 0\n",
    "deck = []\n",
    "for suit in range(1,5):\n",
    "    for rank in range(2,15):\n",
    "        c = Card(rank,suit)\n",
    "        # print(c.rank, c.suit, c)\n",
    "        deck.append(c)\n",
    "        count += 1\n",
    "        \n",
    "print(\"{} cards... \".format(count))\n",
    "print(deck)\n",
    "print(deck[23])"
   ]
  },
  {
   "cell_type": "code",
   "execution_count": 86,
   "metadata": {},
   "outputs": [],
   "source": [
    "random.shuffle(deck)"
   ]
  },
  {
   "cell_type": "code",
   "execution_count": 87,
   "metadata": {},
   "outputs": [
    {
     "data": {
      "text/plain": [
       "[(Kd),\n",
       " (Ad),\n",
       " (6d),\n",
       " (Qc),\n",
       " (7d),\n",
       " (6s),\n",
       " (6c),\n",
       " (5h),\n",
       " (5s),\n",
       " (4d),\n",
       " (Th),\n",
       " (Jd),\n",
       " (Js),\n",
       " (4c),\n",
       " (Ah),\n",
       " (9s),\n",
       " (2c),\n",
       " (2s),\n",
       " (Kc),\n",
       " (9c),\n",
       " (Qh),\n",
       " (6h),\n",
       " (As),\n",
       " (8h),\n",
       " (3s),\n",
       " (4s),\n",
       " (Jh),\n",
       " (2h),\n",
       " (Jc),\n",
       " (Ks),\n",
       " (5c),\n",
       " (8s),\n",
       " (7c),\n",
       " (Ts),\n",
       " (Td),\n",
       " (2d),\n",
       " (7s),\n",
       " (9h),\n",
       " (Qs),\n",
       " (8c),\n",
       " (4h),\n",
       " (3d),\n",
       " (Ac),\n",
       " (Tc),\n",
       " (5d),\n",
       " (7h),\n",
       " (3c),\n",
       " (3h),\n",
       " (Qd),\n",
       " (9d),\n",
       " (Kh),\n",
       " (8d)]"
      ]
     },
     "execution_count": 87,
     "metadata": {},
     "output_type": "execute_result"
    }
   ],
   "source": [
    "deck"
   ]
  },
  {
   "cell_type": "code",
   "execution_count": 88,
   "metadata": {},
   "outputs": [],
   "source": [
    "board = [[], [], [], []]"
   ]
  },
  {
   "cell_type": "code",
   "execution_count": 89,
   "metadata": {},
   "outputs": [],
   "source": [
    "MIN_COL = 0\n",
    "MAX_COL = 4\n",
    "\n",
    "def play1(deck, board, col):\n",
    "    if col >= MIN_COL and col <= MAX_COL:\n",
    "        board[col].append(deck[0])\n",
    "        deck.pop(0)\n",
    "    return deck, board\n",
    "\n",
    "def play2board(deck, board):\n",
    "    \n",
    "    for col in range(MIN_COL, MAX_COL):\n",
    "        deck, board = play1(deck, board, col)\n",
    "        \n",
    "    return deck, board\n",
    "    "
   ]
  },
  {
   "cell_type": "code",
   "execution_count": 90,
   "metadata": {},
   "outputs": [
    {
     "name": "stdout",
     "output_type": "stream",
     "text": [
      "\n",
      "[[(Kd), (7d), (5s), (Js), (2c), (Qh), (3s), (Jc), (7c), (7s), (4h), (5d), (Qd)], [(Ad), (6s), (4d), (4c), (2s), (6h), (4s), (Ks), (Ts), (9h), (3d), (7h), (9d)], [(6d), (6c), (Th), (Ah), (Kc), (As), (Jh), (5c), (Td), (Qs), (Ac), (3c), (Kh)], [(Qc), (5h), (Jd), (9s), (9c), (8h), (2h), (8s), (2d), (8c), (Tc), (3h), (8d)]]\n"
     ]
    }
   ],
   "source": [
    "print()\n",
    "\n",
    "for n in range(1,14):\n",
    "    deck, board = play2board(deck, board)\n",
    "print(board)\n"
   ]
  },
  {
   "cell_type": "code",
   "execution_count": 91,
   "metadata": {},
   "outputs": [
    {
     "name": "stdout",
     "output_type": "stream",
     "text": [
      "[]\n"
     ]
    }
   ],
   "source": [
    "print(deck)"
   ]
  },
  {
   "cell_type": "code",
   "execution_count": 154,
   "metadata": {},
   "outputs": [],
   "source": [
    "def depth_col(board, col):\n",
    "    return len(board[col])\n",
    "\n",
    "def col_depths(board):\n",
    "    l = []\n",
    "    for c in range(MIN_COL, MAX_COL):\n",
    "        l.append(depth_col(board, c))\n",
    "    return l\n",
    "\n",
    "def max_col_depth(board):\n",
    "    return max(depth_col(board, n) for n in range(MIN_COL, MAX_COL))\n",
    "    \n",
    "def print_board(board):\n",
    "    row = 0\n",
    "    print(\"\\t{}\\t{}\\t{}\\t{}\".format(\"--1--\", \"--2--\", \"--3--\", \"--4--\"))\n",
    "    for d in range(max_col_depth(board)):\n",
    "        row_cards = []\n",
    "        row += 1\n",
    "        for c in range(MIN_COL, MAX_COL):\n",
    "            if depth_col(board, c) < d:\n",
    "                card = \"    \"\n",
    "            else:\n",
    "                card = board[c][d]\n",
    "            row_cards.append(card)\n",
    "        # print(row, row_cards)\n",
    "        print(\"{}\\t{}\\t{}\\t{}\\t{}\".format(row, row_cards[0], row_cards[1], row_cards[2], row_cards[3]))\n"
   ]
  },
  {
   "cell_type": "code",
   "execution_count": 155,
   "metadata": {},
   "outputs": [
    {
     "name": "stdout",
     "output_type": "stream",
     "text": [
      "[13, 13, 13, 13]\n"
     ]
    }
   ],
   "source": [
    "print(col_depths(board))"
   ]
  },
  {
   "cell_type": "code",
   "execution_count": 156,
   "metadata": {},
   "outputs": [
    {
     "name": "stdout",
     "output_type": "stream",
     "text": [
      "\t--1--\t--2--\t--3--\t--4--\n",
      "1\t(Kd)\t(Ad)\t(6d)\t(Qc)\n",
      "2\t(7d)\t(6s)\t(6c)\t(5h)\n",
      "3\t(5s)\t(4d)\t(Th)\t(Jd)\n",
      "4\t(Js)\t(4c)\t(Ah)\t(9s)\n",
      "5\t(2c)\t(2s)\t(Kc)\t(9c)\n",
      "6\t(Qh)\t(6h)\t(As)\t(8h)\n",
      "7\t(3s)\t(4s)\t(Jh)\t(2h)\n",
      "8\t(Jc)\t(Ks)\t(5c)\t(8s)\n",
      "9\t(7c)\t(Ts)\t(Td)\t(2d)\n",
      "10\t(7s)\t(9h)\t(Qs)\t(8c)\n",
      "11\t(4h)\t(3d)\t(Ac)\t(Tc)\n",
      "12\t(5d)\t(7h)\t(3c)\t(3h)\n",
      "13\t(Qd)\t(9d)\t(Kh)\t(8d)\n"
     ]
    }
   ],
   "source": [
    "print_board(board)"
   ]
  }
 ],
 "metadata": {
  "kernelspec": {
   "display_name": "Python 3",
   "language": "python",
   "name": "python3"
  },
  "language_info": {
   "codemirror_mode": {
    "name": "ipython",
    "version": 3
   },
   "file_extension": ".py",
   "mimetype": "text/x-python",
   "name": "python",
   "nbconvert_exporter": "python",
   "pygments_lexer": "ipython3",
   "version": "3.7.6"
  }
 },
 "nbformat": 4,
 "nbformat_minor": 2
}
